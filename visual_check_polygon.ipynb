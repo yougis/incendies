{
 "cells": [
  {
   "cell_type": "code",
   "execution_count": 1,
   "id": "c5ce14a6",
   "metadata": {},
   "outputs": [],
   "source": [
    "import ee\n",
    "import geemap\n",
    "import logging\n",
    "from filecmp import dircmp\n",
    "import os\n",
    "import filecmp\n",
    "from dotenv import load_dotenv\n",
    "from intake import open_catalog\n",
    "import matplotlib as plt\n",
    "import pandas as pd\n",
    "import numpy as np\n",
    "from shapely import wkt\n",
    "import shapely\n",
    "from sqlalchemy import create_engine, text\n",
    "import geopandas as gpd\n",
    "from dotenv import load_dotenv\n",
    "load_dotenv()\n",
    "import ipywidgets as widgets\n",
    "from datetime import datetime, date, timedelta\n",
    "from ipywidgets import HBox, VBox\n",
    "import uuid\n",
    "from datetime import datetime\n",
    "import math\n",
    "from ipywidgets import Button, Layout\n",
    "import warnings\n",
    "warnings.filterwarnings('ignore')\n",
    "warnings.simplefilter('ignore')\n",
    "import asyncio"
   ]
  },
  {
   "cell_type": "code",
   "execution_count": 2,
   "id": "b36a52d9",
   "metadata": {},
   "outputs": [
    {
     "data": {
      "text/html": [
       "\n",
       "            <style>\n",
       "                .geemap-dark {\n",
       "                    --jp-widgets-color: white;\n",
       "                    --jp-widgets-label-color: white;\n",
       "                    --jp-ui-font-color1: white;\n",
       "                    --jp-layout-color2: #454545;\n",
       "                    background-color: #383838;\n",
       "                }\n",
       "\n",
       "                .geemap-dark .jupyter-button {\n",
       "                    --jp-layout-color3: #383838;\n",
       "                }\n",
       "\n",
       "                .geemap-colab {\n",
       "                    background-color: var(--colab-primary-surface-color, white);\n",
       "                }\n",
       "\n",
       "                .geemap-colab .jupyter-button {\n",
       "                    --jp-layout-color3: var(--colab-primary-surface-color, white);\n",
       "                }\n",
       "            </style>\n",
       "            "
      ],
      "text/plain": [
       "<IPython.core.display.HTML object>"
      ]
     },
     "metadata": {},
     "output_type": "display_data"
    }
   ],
   "source": [
    "auth_file = '/home/oriane/test_app/gee_credentials.json'\n",
    "os.environ['EARTHENGINE_TOKEN'] = auth_file"
   ]
  },
  {
   "cell_type": "code",
   "execution_count": 5,
   "id": "42ac1f05",
   "metadata": {},
   "outputs": [
    {
     "data": {
      "text/html": [
       "\n",
       "            <style>\n",
       "                .geemap-dark {\n",
       "                    --jp-widgets-color: white;\n",
       "                    --jp-widgets-label-color: white;\n",
       "                    --jp-ui-font-color1: white;\n",
       "                    --jp-layout-color2: #454545;\n",
       "                    background-color: #383838;\n",
       "                }\n",
       "\n",
       "                .geemap-dark .jupyter-button {\n",
       "                    --jp-layout-color3: #383838;\n",
       "                }\n",
       "\n",
       "                .geemap-colab {\n",
       "                    background-color: var(--colab-primary-surface-color, white);\n",
       "                }\n",
       "\n",
       "                .geemap-colab .jupyter-button {\n",
       "                    --jp-layout-color3: var(--colab-primary-surface-color, white);\n",
       "                }\n",
       "            </style>\n",
       "            "
      ],
      "text/plain": [
       "<IPython.core.display.HTML object>"
      ]
     },
     "metadata": {},
     "output_type": "display_data"
    },
    {
     "data": {
      "text/html": [
       "<p>To authorize access needed by Earth Engine, open the following\n",
       "        URL in a web browser and follow the instructions:</p>\n",
       "        <p><a href=https://code.earthengine.google.com/client-auth?scopes=https%3A//www.googleapis.com/auth/earthengine%20https%3A//www.googleapis.com/auth/cloud-platform%20https%3A//www.googleapis.com/auth/devstorage.full_control&request_id=XWX13tdzPlDG50XyWCvJq1uRVA29WgfwTyZQSO26lDU&tc=plDl6b4YIaCVJugiv3qM67Nx_n4H99uPErA8Xi5yqRM&cc=36ZcVyqNyRG8P6eOXiRl1ZJjxrrAg4wReHWcAXM7pdY>https://code.earthengine.google.com/client-auth?scopes=https%3A//www.googleapis.com/auth/earthengine%20https%3A//www.googleapis.com/auth/cloud-platform%20https%3A//www.googleapis.com/auth/devstorage.full_control&request_id=XWX13tdzPlDG50XyWCvJq1uRVA29WgfwTyZQSO26lDU&tc=plDl6b4YIaCVJugiv3qM67Nx_n4H99uPErA8Xi5yqRM&cc=36ZcVyqNyRG8P6eOXiRl1ZJjxrrAg4wReHWcAXM7pdY</a></p>\n",
       "        <p>The authorization workflow will generate a code, which you should paste in the box below.</p>\n",
       "        "
      ],
      "text/plain": [
       "<IPython.core.display.HTML object>"
      ]
     },
     "metadata": {},
     "output_type": "display_data"
    },
    {
     "name": "stdout",
     "output_type": "stream",
     "text": [
      "\n",
      "Successfully saved authorization token.\n"
     ]
    }
   ],
   "source": [
    "#ee.Authenticate()"
   ]
  },
  {
   "cell_type": "code",
   "execution_count": 6,
   "id": "d0e600bc",
   "metadata": {},
   "outputs": [
    {
     "data": {
      "text/html": [
       "\n",
       "            <style>\n",
       "                .geemap-dark {\n",
       "                    --jp-widgets-color: white;\n",
       "                    --jp-widgets-label-color: white;\n",
       "                    --jp-ui-font-color1: white;\n",
       "                    --jp-layout-color2: #454545;\n",
       "                    background-color: #383838;\n",
       "                }\n",
       "\n",
       "                .geemap-dark .jupyter-button {\n",
       "                    --jp-layout-color3: #383838;\n",
       "                }\n",
       "\n",
       "                .geemap-colab {\n",
       "                    background-color: var(--colab-primary-surface-color, white);\n",
       "                }\n",
       "\n",
       "                .geemap-colab .jupyter-button {\n",
       "                    --jp-layout-color3: var(--colab-primary-surface-color, white);\n",
       "                }\n",
       "            </style>\n",
       "            "
      ],
      "text/plain": [
       "<IPython.core.display.HTML object>"
      ]
     },
     "metadata": {},
     "output_type": "display_data"
    }
   ],
   "source": [
    "ee.Initialize(project='ee-surfor')"
   ]
  },
  {
   "cell_type": "code",
   "execution_count": 7,
   "id": "4db88716",
   "metadata": {},
   "outputs": [
    {
     "data": {
      "text/html": [
       "\n",
       "            <style>\n",
       "                .geemap-dark {\n",
       "                    --jp-widgets-color: white;\n",
       "                    --jp-widgets-label-color: white;\n",
       "                    --jp-ui-font-color1: white;\n",
       "                    --jp-layout-color2: #454545;\n",
       "                    background-color: #383838;\n",
       "                }\n",
       "\n",
       "                .geemap-dark .jupyter-button {\n",
       "                    --jp-layout-color3: #383838;\n",
       "                }\n",
       "\n",
       "                .geemap-colab {\n",
       "                    background-color: var(--colab-primary-surface-color, white);\n",
       "                }\n",
       "\n",
       "                .geemap-colab .jupyter-button {\n",
       "                    --jp-layout-color3: var(--colab-primary-surface-color, white);\n",
       "                }\n",
       "            </style>\n",
       "            "
      ],
      "text/plain": [
       "<IPython.core.display.HTML object>"
      ]
     },
     "metadata": {},
     "output_type": "display_data"
    }
   ],
   "source": [
    "### Variables\n",
    "table_source = \"sentinel_surfaces_detectees\"\n",
    "table_faits = \"faits_zae_sentinel_surfaces_detectees\"\n",
    "table_information = \"sentinel_informations_surfaces_detectees\"\n",
    "table_temp_cq = \"liste_surfaces_cq_temp\"\n",
    "filter_list=['ZAE','Autre','CQ Brute','CQ PI']\n",
    "filter_list_sample=['Nouveau','Existant']\n",
    "mode_list=[\"Choix\",'PI par groupe', 'CQ', 'PI FLAG','PI Entrainement']\n",
    "filter_visual_check=['Polygone PI','Autre']\n",
    "day_collection_init=60\n",
    "catalog_path = f'{os.getenv(\"DATA_CATALOG_DIR\")}/data_reference_feux.yaml'"
   ]
  },
  {
   "cell_type": "code",
   "execution_count": null,
   "id": "130919c3",
   "metadata": {},
   "outputs": [
    {
     "data": {
      "text/html": [
       "\n",
       "            <style>\n",
       "                .geemap-dark {\n",
       "                    --jp-widgets-color: white;\n",
       "                    --jp-widgets-label-color: white;\n",
       "                    --jp-ui-font-color1: white;\n",
       "                    --jp-layout-color2: #454545;\n",
       "                    background-color: #383838;\n",
       "                }\n",
       "\n",
       "                .geemap-dark .jupyter-button {\n",
       "                    --jp-layout-color3: #383838;\n",
       "                }\n",
       "\n",
       "                .geemap-colab {\n",
       "                    background-color: var(--colab-primary-surface-color, white);\n",
       "                }\n",
       "\n",
       "                .geemap-colab .jupyter-button {\n",
       "                    --jp-layout-color3: var(--colab-primary-surface-color, white);\n",
       "                }\n",
       "            </style>\n",
       "            "
      ],
      "text/plain": [
       "<IPython.core.display.HTML object>"
      ]
     },
     "metadata": {},
     "output_type": "display_data"
    },
    {
     "data": {
      "application/vnd.jupyter.widget-view+json": {
       "model_id": "ee611e8d816e488f8e6ed2469916c525",
       "version_major": 2,
       "version_minor": 0
      },
      "text/plain": [
       "interactive(children=(Play(value=0, description='Images', interval=5000, max=35), Output()), _dom_classes=('wi…"
      ]
     },
     "metadata": {},
     "output_type": "display_data"
    },
    {
     "data": {
      "application/vnd.jupyter.widget-view+json": {
       "model_id": "f8f3fae6f0164a7eaa4b7dced6f6c48d",
       "version_major": 2,
       "version_minor": 0
      },
      "text/plain": [
       "VBox(children=(HBox(children=(Text(value='L2A_T58KEB_20230612_8f9f515516da860', description='Polygon ID:'), La…"
      ]
     },
     "metadata": {},
     "output_type": "display_data"
    },
    {
     "data": {
      "application/vnd.jupyter.widget-view+json": {
       "model_id": "b9f1989217bd41de8595793f85b6af23",
       "version_major": 2,
       "version_minor": 0
      },
      "text/plain": [
       "VBox(children=(HBox(children=(Map(center=[-21.72237801922255, 165.85961158735844], controls=(WidgetControl(opt…"
      ]
     },
     "metadata": {},
     "output_type": "display_data"
    },
    {
     "data": {
      "application/vnd.jupyter.widget-view+json": {
       "model_id": "e0c178345c934b47a6f0848dece2adde",
       "version_major": 2,
       "version_minor": 0
      },
      "text/plain": [
       "interactive(children=(Play(value=0, description='Images', interval=5000, max=34), Output()), _dom_classes=('wi…"
      ]
     },
     "metadata": {},
     "output_type": "display_data"
    },
    {
     "name": "stderr",
     "output_type": "stream",
     "text": [
      "No such comm: 1c6f919cdf4346ac965e360652da7c1b\n",
      "No such comm: 1c6f919cdf4346ac965e360652da7c1b\n",
      "No such comm: 08671490a33744d9a062fcbdbfe17c05\n",
      "No such comm: 08671490a33744d9a062fcbdbfe17c05\n",
      "No such comm: 375f5dbd8cef48de808e68e3ced9ad45\n",
      "No such comm: 375f5dbd8cef48de808e68e3ced9ad45\n",
      "No such comm: 72f9d76130a644b3902253ea6f409a07\n",
      "No such comm: 72f9d76130a644b3902253ea6f409a07\n",
      "No such comm: a3be16adc4af4c9494ecc33ac0cea062\n",
      "No such comm: a3be16adc4af4c9494ecc33ac0cea062\n",
      "No such comm: 1804b12c2ce545869a7614fa05aff6d9\n",
      "No such comm: 1804b12c2ce545869a7614fa05aff6d9\n"
     ]
    }
   ],
   "source": [
    "import ee\n",
    "import geemap\n",
    "import pandas as pd\n",
    "import ipywidgets as widgets\n",
    "from datetime import timedelta, datetime\n",
    "from IPython.display import display\n",
    "import concurrent.futures\n",
    "def map_VC():\n",
    "    upper_left_map = geemap.Map(center=(-21.2, 166), zoom=8, layout={'height': '500px', 'width': '100%'})\n",
    "    upper_right_map = geemap.Map(center=(-21.2, 166), zoom=8, layout={'height': '500px', 'width': '100%'})\n",
    "    lower_left_map = geemap.Map(center=(-21.2, 166), zoom=8, layout={'height': '500px', 'width': '100%'})\n",
    "    lower_right_map = geemap.Map(center=(-21.2, 166), zoom=8, layout={'height': '500px', 'width': '100%'})\n",
    "\n",
    "    polygone_id_widget = widgets.Text(value='L2A_T58KEB_20230612_8f9f515516da860', description='Polygon ID:', disabled=False)\n",
    "    date_detection = widgets.Label(value='Détection: ')\n",
    "    \n",
    "    choix_interval = widgets.FloatText(value=60, description='Interval:', disabled=False)\n",
    "    image_viewer = widgets.Play(interval=5000, value=0, min=0, max=1, step=1, description=\"Images\", disabled=True)\n",
    "    date_label = widgets.Label(value='Date: ')\n",
    "    slider = widgets.IntSlider(step=1, value=0)\n",
    "\n",
    "    def load_gdf(polygone_id):\n",
    "        sql = f\"\"\"SELECT row_number() OVER () AS id,\n",
    "        si.date_,\n",
    "        si.surface_id_h3,\n",
    "        ss.her,\n",
    "        si.geometry\n",
    "        FROM feux_cq.{table_source} si\n",
    "        LEFT JOIN feux_cq.{table_information} ss ON ss.surface_id_h3 = si.surface_id_h3\n",
    "        WHERE si.surface_id_h3 = '{polygone_id}'\n",
    "        \"\"\"\n",
    "\n",
    "        catalog = open_catalog(catalog_path)\n",
    "        dataCatalog = getattr(catalog, table_source)(sql_expr=sql)\n",
    "        gdf = dataCatalog.read()\n",
    "\n",
    "        if gdf.duplicated(subset=['surface_id_h3']).sum() >= 1:\n",
    "            gdf = gdf.drop_duplicates(subset=['surface_id_h3'])\n",
    "\n",
    "        gdf['date_'] = pd.to_datetime(gdf['date_'])\n",
    "        gdf = gdf.to_crs(epsg=4326)\n",
    "        \n",
    "        return gdf\n",
    "\n",
    "    def display_images(selected_gdf, interval):\n",
    "        index = 0\n",
    "        detection_date = selected_gdf.iloc[index]['date_'].strftime('%Y-%m-%d')\n",
    "        date_detection.value = f'Date Détection : {detection_date}'\n",
    "        date = selected_gdf.iloc[index]['date_'] - timedelta(days=interval)\n",
    "        end_date = selected_gdf.iloc[index]['date_'] + timedelta(days=interval)\n",
    "        geom = selected_gdf.iloc[index]['geometry']\n",
    "        geom_json = geom.__geo_interface__\n",
    "        ee_geom = ee.Geometry(geom_json)\n",
    "        buffered_geom = ee_geom.buffer(3000)\n",
    "        asset = ee.FeatureCollection(ee_geom)\n",
    "            \n",
    "        image_collection = ee.ImageCollection('COPERNICUS/S2_SR') \\\n",
    "            .filterBounds(buffered_geom.bounds()) \\\n",
    "            .filterDate(date, end_date) \\\n",
    "            .filter(ee.Filter.lt('CLOUDY_PIXEL_PERCENTAGE', 70))\n",
    "        \n",
    "        image_fix = image_collection.filterDate(selected_gdf.iloc[index]['date_'], selected_gdf.iloc[index]['date_'] + timedelta(hours=24)).median()\n",
    "        image_fix = image_fix.clip(buffered_geom.bounds())\n",
    "\n",
    "        vis_params_polygon = {\n",
    "            'color': '000000', \n",
    "            'pointSize': 3,\n",
    "            'pointShape': 'circle',\n",
    "            'width': 1.5,\n",
    "            'lineType': 'solid',\n",
    "            'fillColor': '00000000',\n",
    "        }\n",
    "        rgb_params = {\n",
    "            'bands': ['B4', 'B3', 'B2'],\n",
    "            'min': 0,\n",
    "            'max': 3000,\n",
    "            'gamma': 1.4\n",
    "        }\n",
    "        fcir_params = {\n",
    "            'bands': ['B8', 'B4', 'B3'],\n",
    "            'min': 0,\n",
    "            'max': 3000,\n",
    "            'gamma': 1.4\n",
    "        }\n",
    "\n",
    "        image = image_fix\n",
    "        ndvi = image.normalizedDifference(['B8', 'B4']).rename('ndvi')\n",
    "        image = image.addBands(ndvi)\n",
    "        vis_params_ndvi = {\n",
    "            'bands': ['ndvi'],\n",
    "            'min': 0,\n",
    "            'max': 1,\n",
    "            'palette': ['FFFFFF', 'CE7E45', 'DF923D', 'F1B555', 'FCD163', '99B718',\n",
    "                        '74A901', '66A000', '529400', '3E8601', '207401', '056201',\n",
    "                        '004C00', '023B01', '012E01', '011D01', '011301']\n",
    "        }\n",
    "\n",
    "        def load_and_display_map(map_obj,image, vis_params, label):\n",
    "            map_obj.addLayer(image, vis_params, label)\n",
    "            map_obj.addLayer(asset.style(**vis_params_polygon), {}, 'Polygon')\n",
    "            map_obj.centerObject(ee_geom, 17)\n",
    "\n",
    "        with concurrent.futures.ThreadPoolExecutor() as executor:\n",
    "            futures = []\n",
    "            futures.append(executor.submit(load_and_display_map, lower_right_map,image_fix, rgb_params, 'RGB'))\n",
    "            futures.append(executor.submit(load_and_display_map, lower_left_map,image_fix, fcir_params, 'FCIR'))\n",
    "            futures.append(executor.submit(load_and_display_map, upper_right_map,image, vis_params_ndvi, 'NDVI'))\n",
    "\n",
    "            for future in concurrent.futures.as_completed(futures):\n",
    "                future.result()\n",
    "\n",
    "        dates_list = image_collection.aggregate_array('system:time_start').getInfo()\n",
    "        dates_list = [datetime.utcfromtimestamp(date / 1000).strftime('%Y-%m-%d') for date in dates_list]\n",
    "\n",
    "        slider.max = len(dates_list) - 1\n",
    "        image_viewer.max = len(dates_list) - 1\n",
    "        image_viewer.value = 0\n",
    "        image_viewer.min = 0\n",
    "        image_viewer.disabled = (len(dates_list) == 0)\n",
    "        image_viewer.unobserve_all()\n",
    "\n",
    "        def start_image(index):\n",
    "            image = ee.Image(image_collection.toList(image_collection.size()).get(index))\n",
    "            image = image.clip(buffered_geom.bounds())\n",
    "        \n",
    "            upper_left_map.addLayer(image, rgb_params, 'RGB')\n",
    "            upper_left_map.addLayer(asset.style(**vis_params_polygon), {}, 'Polygon')\n",
    "            upper_left_map.centerObject(ee_geom, 17)\n",
    "            date_label.value = f'Date Image : {dates_list[index]}'\n",
    "\n",
    "        widgets.jslink((image_viewer, 'value'), (slider, 'value'))\n",
    "        widgets.interact(start_image, index=image_viewer)\n",
    "\n",
    "    def on_value_change(change):\n",
    "        gdf = load_gdf(polygone_id_widget.value)\n",
    "        display_images(gdf, choix_interval.value)\n",
    "\n",
    "    polygone_id_widget.observe(on_value_change, names='value')\n",
    "    choix_interval.observe(on_value_change, names='value')\n",
    "\n",
    "    gdf = load_gdf(polygone_id_widget.value)\n",
    "    display_images(gdf, choix_interval.value)\n",
    "\n",
    "    widgets_info = widgets.VBox([widgets.HBox([polygone_id_widget, date_detection]), choix_interval, widgets.HBox([image_viewer, date_label, slider])])\n",
    "    widgets_map = widgets.VBox([widgets.HBox([upper_left_map, upper_right_map]), widgets.HBox([lower_left_map, lower_right_map])])\n",
    "    display(widgets_info, widgets_map)\n",
    "\n",
    "map_VC()"
   ]
  }
 ],
 "metadata": {
  "kernelspec": {
   "display_name": "gis39",
   "language": "python",
   "name": "python3"
  },
  "language_info": {
   "codemirror_mode": {
    "name": "ipython",
    "version": 3
   },
   "file_extension": ".py",
   "mimetype": "text/x-python",
   "name": "python",
   "nbconvert_exporter": "python",
   "pygments_lexer": "ipython3",
   "version": "3.11.8"
  }
 },
 "nbformat": 4,
 "nbformat_minor": 5
}
